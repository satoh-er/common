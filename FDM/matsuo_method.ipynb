{
 "cells": [
  {
   "cell_type": "code",
   "execution_count": 7,
   "metadata": {},
   "outputs": [],
   "source": [
    "import numpy as np\n",
    "\n",
    "# 入力値NL、NO、配列R、Cを事前に定義する必要があります\n",
    "NO = 4   # 他の入力値\n",
    "R = np.array([0.125, 0.750, 0.140, 0.050])  # 抵抗値\n",
    "C = np.array([0.0, 0.75, 96.0, 0.0])  # 容量値\n",
    "NL = len(R)  # レイヤーの数"
   ]
  },
  {
   "cell_type": "code",
   "execution_count": 8,
   "metadata": {},
   "outputs": [
    {
     "name": "stdout",
     "output_type": "stream",
     "text": [
      "1, 3, 0.2533, 36.41, 0.910\n",
      "2, 3, 0.5066, 24.31, 0.035\n",
      "3, 3, 0.7598, 30.58, 0.035\n",
      "4, 4, 1.0000, 4.64, 0.084\n",
      "5, 4, 1.0000, 4.64\n"
     ]
    }
   ],
   "source": [
    "# 初期化\n",
    "RW = CW = 0.0\n",
    "for i in range(NL):\n",
    "    RW += R[i]\n",
    "    CW += C[i]\n",
    "\n",
    "RL = np.sqrt(RW * CW)\n",
    "RS = 0.0\n",
    "LY = [1] + [0] * (NO + 1)  # Pythonのリストは0からインデックス\n",
    "XY = [0.0] * (NO + 1)\n",
    "RZ = [0.0] * NO\n",
    "CZ = [0.0] * (NO + 1)\n",
    "K = 0\n",
    "\n",
    "while K < 24:\n",
    "    K += 1\n",
    "    RC = (RL + RS) / 2\n",
    "    RD = RC**2\n",
    "    IC = IL = 0\n",
    "    XI = 0.0\n",
    "    RW = CW = 0.0\n",
    "\n",
    "    while True:\n",
    "        W = (RW + R[IL] * (1 - XI)) * (CW + C[IL] * (1 - XI))\n",
    "        if W > RD:\n",
    "            YE = 1.0\n",
    "            while True:\n",
    "                W1 = RW + R[IL] * (YE - XI)\n",
    "                W2 = CW + C[IL] * (YE - XI)\n",
    "                W = YE - (W1 * W2 - RD) / (R[IL] * W2 + C[IL] * W1)\n",
    "                if W >= YE:\n",
    "                    break\n",
    "                YE = W\n",
    "            LY[IC + 1] = IL + 1\n",
    "            XY[IC + 1] = YE\n",
    "            if IC < NO - 1:\n",
    "                IC += 1\n",
    "                XI = YE\n",
    "                continue\n",
    "            else:\n",
    "                RS = RC\n",
    "                break\n",
    "        elif IL < NL - 1:\n",
    "            RW += R[IL] * (1 - XI)\n",
    "            CW += C[IL] * (1 - XI)\n",
    "            XI = 0.0\n",
    "            IL += 1\n",
    "        else:\n",
    "            RL = RC\n",
    "            break\n",
    "\n",
    "for I in range(1, NO + 1):\n",
    "    RW = CW = RC = 0.0\n",
    "    IL = LY[I - 1] - 1  # Pythonのインデックス調整\n",
    "    XI = XY[I - 1]\n",
    "    while IL != LY[I] - 1:\n",
    "        RD = RW + R[IL] * (1 - XI)\n",
    "        CD = C[IL] * (1 - XI)\n",
    "        RC += (RW + RD) * CD / 2.0\n",
    "        RW = RD\n",
    "        CW += CD\n",
    "        IL += 1\n",
    "        XI = 0.0\n",
    "        if IL == LY[I] - 1: break\n",
    "    RD = RW + R[IL] * (XY[I] - XI)\n",
    "    CD = C[IL] * (XY[I] - XI)\n",
    "    CZ[I] = (RC + (RW + RD) * CD / 2.0) / RD\n",
    "    CZ[I - 1] += CW + CD - CZ[I]\n",
    "    RZ[I - 1] = RD\n",
    "\n",
    "# 結果の出力\n",
    "for I in range(1, NO + 1):\n",
    "    print(f\"{I}, {LY[I]}, {XY[I]:.4f}, {CZ[I]:.2f}, {RZ[I - 1]:.3f}\")\n",
    "\n",
    "I = NO\n",
    "print(f\"{I + 1}, {LY[I]}, {XY[I]:.4f}, {CZ[I]:.2f}\")\n"
   ]
  }
 ],
 "metadata": {
  "kernelspec": {
   "display_name": "base",
   "language": "python",
   "name": "python3"
  },
  "language_info": {
   "codemirror_mode": {
    "name": "ipython",
    "version": 3
   },
   "file_extension": ".py",
   "mimetype": "text/x-python",
   "name": "python",
   "nbconvert_exporter": "python",
   "pygments_lexer": "ipython3",
   "version": "3.11.5"
  }
 },
 "nbformat": 4,
 "nbformat_minor": 2
}
